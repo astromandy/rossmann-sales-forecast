{
 "cells": [
  {
   "cell_type": "markdown",
   "id": "8e058ff5",
   "metadata": {},
   "source": [
    "# 🛠️ ETL and Feature Engineering\n",
    "\n",
    "In this notebook, we load, clean, and transform the Rossmann sales dataset using a structured ETL (Extract, Transform, Load) pipeline and apply advanced feature engineering techniques to prepare the data for modeling.\n"
   ]
  },
  {
   "cell_type": "code",
   "execution_count": 4,
   "id": "1e8613bf",
   "metadata": {},
   "outputs": [],
   "source": [
    "import sys\n",
    "import os\n",
    "#Add src to path\n",
    "sys.path.append(os.path.abspath(os.path.join(os.path.dirname('/home/amanda/rossmann-sales-forecast/src/'), '..')))\n",
    "from src.etl import carregar_dados, limpar_dados\n",
    "from src.features import criar_variaveis_temporais, criar_lags, criar_medias_moveis\n"
   ]
  },
  {
   "cell_type": "markdown",
   "id": "ab60d748",
   "metadata": {},
   "source": [
    "## 📥 Step 1: Load and Clean Data\n",
    "\n",
    "We start by loading the raw sales and store data, and apply basic data cleaning operations such as handling missing values and formatting.\n"
   ]
  },
  {
   "cell_type": "code",
   "execution_count": 5,
   "id": "1e031884",
   "metadata": {},
   "outputs": [
    {
     "name": "stderr",
     "output_type": "stream",
     "text": [
      "/home/amanda/rossmann-sales-forecast/src/etl.py:4: DtypeWarning: Columns (7) have mixed types. Specify dtype option on import or set low_memory=False.\n",
      "  df_train = pd.read_csv(caminho_treino)\n"
     ]
    }
   ],
   "source": [
    "# Load and clean data\n",
    "df = carregar_dados(\"~/rossmann-sales-forecast/data/raw/train.csv\", \"~/rossmann-sales-forecast/data/raw/store.csv\")\n",
    "df = limpar_dados(df)\n"
   ]
  },
  {
   "cell_type": "markdown",
   "id": "1640c8a5",
   "metadata": {},
   "source": [
    "## 🧠 Step 2: Feature Engineering\n",
    "\n",
    "We generate new features to enrich the dataset:\n",
    "\n",
    "- **Temporal features** like day of the week, month, etc.\n",
    "- **Lag features** to capture past sales trends.\n",
    "- **Rolling means** to smooth fluctuations and detect trends.\n"
   ]
  },
  {
   "cell_type": "code",
   "execution_count": 7,
   "id": "7a3b5055",
   "metadata": {},
   "outputs": [],
   "source": [
    "# Feature engineering\n",
    "df = criar_variaveis_temporais(df)\n",
    "df = criar_lags(df, lags=[1, 7, 14])\n",
    "df = criar_medias_moveis(df, janelas=[7, 14])\n"
   ]
  },
  {
   "cell_type": "markdown",
   "id": "74dcf208",
   "metadata": {},
   "source": [
    "## 🧹 Step 3: Handle Missing Values\n",
    "\n",
    "We drop any remaining rows with `NaN` values created during lag/rolling operations.\n"
   ]
  },
  {
   "cell_type": "code",
   "execution_count": 8,
   "id": "bfb7f579",
   "metadata": {},
   "outputs": [],
   "source": [
    "# Drop NA and save\n",
    "df = df.dropna()\n"
   ]
  },
  {
   "cell_type": "markdown",
   "id": "c2c771e6",
   "metadata": {},
   "source": [
    "## 💾 Step 4: Save Processed Data\n",
    "\n",
    "We export the final processed dataset to a CSV file to be used in the training pipeline.\n"
   ]
  },
  {
   "cell_type": "code",
   "execution_count": 9,
   "id": "f624bee9",
   "metadata": {},
   "outputs": [],
   "source": [
    "df.to_csv(\"~/rossmann-sales-forecast/data/processed/train_processed.csv\", index=False)\n"
   ]
  },
  {
   "cell_type": "code",
   "execution_count": null,
   "id": "c6522d73",
   "metadata": {},
   "outputs": [],
   "source": []
  }
 ],
 "metadata": {
  "kernelspec": {
   "display_name": "Python (cvstars)",
   "language": "python",
   "name": "cvstars"
  },
  "language_info": {
   "codemirror_mode": {
    "name": "ipython",
    "version": 3
   },
   "file_extension": ".py",
   "mimetype": "text/x-python",
   "name": "python",
   "nbconvert_exporter": "python",
   "pygments_lexer": "ipython3",
   "version": "3.11.11"
  }
 },
 "nbformat": 4,
 "nbformat_minor": 5
}
