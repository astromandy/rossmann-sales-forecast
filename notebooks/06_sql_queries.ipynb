{
 "cells": [
  {
   "cell_type": "markdown",
   "id": "1ed458e5",
   "metadata": {},
   "source": [
    "# 📝 SQL Analysis with SQLite\n",
    "This notebook demonstrates how to connect to the Rossmann sales database, perform SQL queries using `pandas`, and create visualizations from the results."
   ]
  },
  {
   "cell_type": "code",
   "execution_count": null,
   "id": "8477969e",
   "metadata": {},
   "outputs": [],
   "source": [
    "# 🧠 Import libraries\n",
    "import sqlite3\n",
    "import pandas as pd\n",
    "import matplotlib.pyplot as plt\n",
    "import seaborn as sns\n",
    "\n",
    "# 📊 Set plot style\n",
    "sns.set(style='whitegrid')\n",
    "plt.rcParams['figure.figsize'] = (10, 5)"
   ]
  },
  {
   "cell_type": "code",
   "execution_count": null,
   "id": "dfb8d959",
   "metadata": {},
   "outputs": [],
   "source": [
    "# 🔌 Connect to the database\n",
    "conn = sqlite3.connect('../database/rossmann.db')"
   ]
  },
  {
   "cell_type": "markdown",
   "id": "dd7d9cbd",
   "metadata": {},
   "source": [
    "## 📊 Total Sales per Store\n",
    "Get the top 10 stores by total sales."
   ]
  },
  {
   "cell_type": "code",
   "execution_count": null,
   "id": "50b3f4ac",
   "metadata": {},
   "outputs": [],
   "source": [
    "query = '''\n",
    "SELECT store, SUM(sales) AS total_sales\n",
    "FROM sales\n",
    "GROUP BY store\n",
    "ORDER BY total_sales DESC\n",
    "LIMIT 10;\n",
    "'''\n",
    "df_top_sales = pd.read_sql(query, conn)\n",
    "df_top_sales"
   ]
  },
  {
   "cell_type": "code",
   "execution_count": null,
   "id": "6a78e165",
   "metadata": {},
   "outputs": [],
   "source": [
    "sns.barplot(data=df_top_sales, x='store', y='total_sales', palette='Blues_d')\n",
    "plt.title('Top 10 Stores by Total Sales')\n",
    "plt.xlabel('Store')\n",
    "plt.ylabel('Total Sales')\n",
    "plt.show()"
   ]
  },
  {
   "cell_type": "markdown",
   "id": "b293bc3d",
   "metadata": {},
   "source": [
    "## 📈 Promo vs Non-Promo Sales\n",
    "Compare average sales on promotion and non-promotion days."
   ]
  },
  {
   "cell_type": "code",
   "execution_count": null,
   "id": "de7f4265",
   "metadata": {},
   "outputs": [],
   "source": [
    "query = '''\n",
    "SELECT promo, AVG(sales) AS avg_sales\n",
    "FROM sales\n",
    "GROUP BY promo;\n",
    "'''\n",
    "df_promo = pd.read_sql(query, conn)\n",
    "df_promo"
   ]
  },
  {
   "cell_type": "code",
   "execution_count": null,
   "id": "3cb92f3a",
   "metadata": {},
   "outputs": [],
   "source": [
    "sns.barplot(data=df_promo, x='promo', y='avg_sales', palette='Set2')\n",
    "plt.title('Average Sales: Promo vs Non-Promo Days')\n",
    "plt.xticks([0, 1], ['No Promo', 'Promo'])\n",
    "plt.xlabel('Promotion')\n",
    "plt.ylabel('Average Sales')\n",
    "plt.show()"
   ]
  },
  {
   "cell_type": "markdown",
   "id": "15ec3348",
   "metadata": {},
   "source": [
    "## 📅 Sales Over Time for a Specific Store\n",
    "Visualize the daily sales trend of a specific store."
   ]
  },
  {
   "cell_type": "code",
   "execution_count": null,
   "id": "fab85296",
   "metadata": {},
   "outputs": [],
   "source": [
    "store_id = 1\n",
    "query = f'''\n",
    "SELECT date, sales\n",
    "FROM sales\n",
    "WHERE store = {store_id}\n",
    "ORDER BY date;\n",
    "'''\n",
    "df_store = pd.read_sql(query, conn)\n",
    "df_store['date'] = pd.to_datetime(df_store['date'])\n",
    "df_store.set_index('date')['sales'].plot(title=f'Sales Over Time - Store {store_id}')\n",
    "plt.xlabel('Date')\n",
    "plt.ylabel('Sales')\n",
    "plt.show()"
   ]
  },
  {
   "cell_type": "code",
   "execution_count": null,
   "id": "bacc50c3",
   "metadata": {},
   "outputs": [],
   "source": [
    "# ✅ Close the database connection\n",
    "conn.close()"
   ]
  }
 ],
 "metadata": {
  "kernelspec": {
   "display_name": "Python 3 (ipykernel)",
   "language": "python",
   "name": "python3"
  },
  "language_info": {
   "codemirror_mode": {
    "name": "ipython",
    "version": 3
   },
   "file_extension": ".py",
   "mimetype": "text/x-python",
   "name": "python",
   "nbconvert_exporter": "python",
   "pygments_lexer": "ipython3",
   "version": "3.11.11"
  }
 },
 "nbformat": 4,
 "nbformat_minor": 5
}
